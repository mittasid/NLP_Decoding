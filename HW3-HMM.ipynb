{
 "cells": [
  {
   "cell_type": "code",
   "execution_count": 1,
   "metadata": {},
   "outputs": [],
   "source": [
    "import numpy as np\n",
    "import pandas as pd\n",
    "import json"
   ]
  },
  {
   "cell_type": "code",
   "execution_count": 2,
   "metadata": {},
   "outputs": [],
   "source": [
    "# Read data:\n",
    "train_headers = [\"index\", \"word\", \"pos_tag\"]\n",
    "train_df = pd.read_csv(\"./data/train\", sep=\"\\t\", header=None)\n",
    "train_df.columns = train_headers\n",
    "\n",
    "dev_df = pd.read_csv(\"./data/dev\", sep=\"\\t\", header=None)\n",
    "dev_df.columns = train_headers\n",
    "\n",
    "test_headers = [\"index\", \"word\"]\n",
    "test_df = pd.read_csv(\"./data/test\", sep=\"\\t\", header=None)\n",
    "test_df.columns = test_headers"
   ]
  },
  {
   "cell_type": "code",
   "execution_count": 3,
   "metadata": {},
   "outputs": [],
   "source": [
    "counter = {}\n",
    "for row in train_df.iterrows():\n",
    "    if row[1][\"word\"] in counter:\n",
    "        counter[row[1][\"word\"]] += 1\n",
    "    else:\n",
    "        counter[row[1][\"word\"]] = 1"
   ]
  },
  {
   "cell_type": "code",
   "execution_count": 4,
   "metadata": {},
   "outputs": [],
   "source": [
    "threshold = 2 \n",
    "unknown_word_list = []\n",
    "for key, value in counter.items():\n",
    "    if value < threshold:\n",
    "        unknown_word_list.append(key)\n",
    "    else:\n",
    "        continue\n",
    "counter[\"< unk >\"] = len(unknown_word_list)"
   ]
  },
  {
   "cell_type": "code",
   "execution_count": 5,
   "metadata": {},
   "outputs": [],
   "source": [
    "counter_sorted = {k: v for k, v in sorted(counter.items(), key=lambda item: item[1], reverse=True)}"
   ]
  },
  {
   "cell_type": "code",
   "execution_count": 6,
   "metadata": {},
   "outputs": [],
   "source": [
    "index=0\n",
    "with open('vocab.txt', 'w') as f:\n",
    "    f.write(\"< unk >\")\n",
    "    f.write(\"\\t\")\n",
    "    f.write(str(index))\n",
    "    f.write(\"\\t\")\n",
    "    f.write(str(counter[\"< unk >\"]))\n",
    "    f.write(\"\\n\")\n",
    "    index+=1\n",
    "    for key, value in counter.items():\n",
    "        if key == \"< unk >\":\n",
    "            continue\n",
    "        elif value >= threshold:\n",
    "            f.write(key)\n",
    "            f.write(\"\\t\")\n",
    "            f.write(str(index))\n",
    "            f.write(\"\\t\")\n",
    "            f.write(str(value))\n",
    "            f.write(\"\\n\")\n",
    "            index+=1\n",
    "        "
   ]
  },
  {
   "cell_type": "code",
   "execution_count": 7,
   "metadata": {},
   "outputs": [
    {
     "name": "stdout",
     "output_type": "stream",
     "text": [
      "Size of vocabulary: 23183\n",
      "Unknown word count 20011\n"
     ]
    }
   ],
   "source": [
    "print(\"Size of vocabulary:\", index)\n",
    "print(\"Unknown word count\", len(unknown_word_list))"
   ]
  },
  {
   "cell_type": "code",
   "execution_count": 8,
   "metadata": {},
   "outputs": [],
   "source": [
    "vocab = {} #want just 0,word1... 90,word90 mapping\n",
    "file = open(\"vocab.txt\", \"r\").read().splitlines()\n",
    "\n",
    "\n",
    "for line in file:\n",
    "    line_split = line.split(\"\\n\")\n",
    "    for actual_line in line_split:\n",
    "        actual_line_split = actual_line.split(\"\\t\")\n",
    "        if len(actual_line_split) == 1:\n",
    "            break\n",
    "        vocab[int(actual_line_split[1])] = actual_line_split[0]"
   ]
  },
  {
   "cell_type": "code",
   "execution_count": 9,
   "metadata": {},
   "outputs": [],
   "source": [
    "pos_tag_dict = {}\n",
    "pos_tags = train_df[\"pos_tag\"].values\n",
    "for i, pos_tag in enumerate(pos_tags):\n",
    "    if i == (len(pos_tags) - 1):\n",
    "        break\n",
    "    \n",
    "    next_tag = pos_tags[i+1]\n",
    "    if pos_tag in pos_tag_dict:\n",
    "        if next_tag in pos_tag_dict[pos_tag]:\n",
    "            pos_tag_dict[pos_tag][next_tag] += 1\n",
    "        else:\n",
    "            pos_tag_dict[pos_tag][next_tag] = 1\n",
    "            \n",
    "    else:\n",
    "        pos_tag_dict[pos_tag] = {}\n",
    "        pos_tag_dict[pos_tag][next_tag] = 1"
   ]
  },
  {
   "cell_type": "code",
   "execution_count": 11,
   "metadata": {},
   "outputs": [],
   "source": [
    "pos_total_counts_d = {}\n",
    "for key, value in pos_tag_dict.items():\n",
    "    pos_total_counts_d[key] = 0\n",
    "    for k_inner, v_inner in value.items():\n",
    "        pos_total_counts_d[key] += v_inner"
   ]
  },
  {
   "cell_type": "code",
   "execution_count": 14,
   "metadata": {},
   "outputs": [],
   "source": [
    "transition_d = {}\n",
    "for key, value in pos_tag_dict.items():\n",
    "    transition_d[key] = {}\n",
    "    for k_inner, v_inner in value.items():\n",
    "        transition_d[key][k_inner] = v_inner/pos_total_counts_d[key]\n",
    "\n",
    "transition_d_formatted = {}\n",
    "for key, value in transition_d.items():\n",
    "    for k_inner, v_inner in value.items():\n",
    "        key_str = str(key) + \", \" + str(k_inner)\n",
    "        transition_d_formatted[key_str] = transition_d[key][k_inner]"
   ]
  },
  {
   "cell_type": "code",
   "execution_count": 15,
   "metadata": {},
   "outputs": [],
   "source": [
    "pos_to_word_d = {}\n",
    "all_pos_tags = train_df[\"pos_tag\"].values\n",
    "all_words = train_df[\"word\"].values\n",
    "for i, pos_tag in enumerate(all_pos_tags):\n",
    "    word = all_words[i]\n",
    "    if pos_tag in pos_to_word_d:\n",
    "        if word in unknown_word_list:\n",
    "            if \"< unk >\" in pos_to_word_d[pos_tag]:\n",
    "                pos_to_word_d[pos_tag][\"< unk >\"] += 1\n",
    "            else:\n",
    "                pos_to_word_d[pos_tag][\"< unk >\"] = 1\n",
    "        else:\n",
    "            if word in pos_to_word_d[pos_tag]:\n",
    "                pos_to_word_d[pos_tag][word] += 1\n",
    "            else:\n",
    "                pos_to_word_d[pos_tag][word] = 1\n",
    "            \n",
    "    else:\n",
    "        pos_to_word_d[pos_tag] = {}\n",
    "        pos_to_word_d[pos_tag][word] = 1"
   ]
  },
  {
   "cell_type": "code",
   "execution_count": 16,
   "metadata": {},
   "outputs": [],
   "source": [
    "emission_d = {}\n",
    "for k, v in pos_to_word_d.items():\n",
    "    emission_d[k] = {}\n",
    "    for k_inner, v_inner in v.items():\n",
    "        emission_d[k][k_inner] = v_inner/pos_total_counts_d[k]\n",
    "        \n",
    "emission_d_formatted = {}\n",
    "for k, v in emission_d.items():\n",
    "    for k_inner, v_inner in v.items():\n",
    "        key_str = str(k) + \", \" + str(k_inner)\n",
    "        emission_d_formatted[key_str] = emission_d[k][k_inner]"
   ]
  },
  {
   "cell_type": "code",
   "execution_count": 17,
   "metadata": {},
   "outputs": [],
   "source": [
    "results = {}\n",
    "results[\"transition\"] = transition_d_formatted\n",
    "results[\"emission\"] = emission_d_formatted"
   ]
  },
  {
   "cell_type": "code",
   "execution_count": 18,
   "metadata": {},
   "outputs": [],
   "source": [
    "with open('hmm.json', 'w') as f:\n",
    "    json.dump(results, f)"
   ]
  },
  {
   "cell_type": "code",
   "execution_count": 19,
   "metadata": {},
   "outputs": [
    {
     "name": "stdout",
     "output_type": "stream",
     "text": [
      "Number of Transition Parameters: 1378\n",
      "Number of Emission Parameters: 30304\n"
     ]
    }
   ],
   "source": [
    "print(\"Number of Transition Parameters:\", len(transition_d_formatted))\n",
    "print(\"Number of Emission Parameters:\", len(emission_d_formatted))"
   ]
  },
  {
   "cell_type": "code",
   "execution_count": 20,
   "metadata": {},
   "outputs": [],
   "source": [
    "hmm = open(\"hmm.json\", \"r\")\n",
    "e_t_model = json.load(hmm)"
   ]
  },
  {
   "cell_type": "code",
   "execution_count": null,
   "metadata": {},
   "outputs": [],
   "source": [
    "### 3. Greedy Decoding with HMM:\n"
   ]
  },
  {
   "cell_type": "code",
   "execution_count": 21,
   "metadata": {},
   "outputs": [],
   "source": [
    "start = {}\n",
    "pos_tags_start = train_df[train_df[\"index\"] == 1][\"pos_tag\"]\n",
    "for pos_tag in pos_tags_start:\n",
    "    if pos_tag in start:\n",
    "        start[pos_tag] += 1\n",
    "    else:\n",
    "        start[pos_tag] = 1"
   ]
  },
  {
   "cell_type": "code",
   "execution_count": 22,
   "metadata": {},
   "outputs": [],
   "source": [
    "start_prob = {k:v/len(pos_tags_start) for k,v in start.items()}"
   ]
  },
  {
   "cell_type": "code",
   "execution_count": 28,
   "metadata": {},
   "outputs": [],
   "source": [
    "def greedy_hmm(df):\n",
    "    \"\"\"Allows for a greedy implementation of HMM. Input - Dataframe that has words as column.\"\"\"\n",
    "    pred_lst = []\n",
    "    all_words = df[\"word\"].values\n",
    "    prev_pos = \"None\"\n",
    "    for i, word in enumerate(all_words):\n",
    "        best_prob = 0\n",
    "        best_pos = \"None\"\n",
    "        if (word in unknown_word_list) or (word not in counter_sorted):\n",
    "            word = \"< unk >\"\n",
    "        if i == 0:\n",
    "            for pos_tag in emission_d.keys():\n",
    "                if word in emission_d[pos_tag]: \n",
    "                    e_x1_s1 = emission_d[pos_tag][word]*start_prob[pos_tag]\n",
    "                    if e_x1_s1 > best_prob:\n",
    "                        best_prob = e_x1_s1\n",
    "                        best_pos = pos_tag\n",
    "                else:\n",
    "                    continue\n",
    "            pred_lst.append(best_pos)\n",
    "            prev_pos = best_pos\n",
    "        else:\n",
    "            for pos_tag in emission_d.keys():\n",
    "                if word in emission_d[pos_tag]:\n",
    "                    e_x2_s2 = emission_d[pos_tag][word]\n",
    "                    if pos_tag in transition_d[prev_pos]:\n",
    "                        t_s2_s1 = transition_d[prev_pos][pos_tag]\n",
    "                    else:\n",
    "                        t_s2_s1 = 0\n",
    "                    prob_ = e_x2_s2*t_s2_s1\n",
    "                    if prob_ > best_prob:\n",
    "                        best_prob = prob_\n",
    "                        best_pos = pos_tag\n",
    "                else:\n",
    "                    continue\n",
    "\n",
    "            if best_pos == \"None\": #Edge case where word and POS DO NOT Allign\n",
    "                for pos_tag in emission_d.keys():\n",
    "                    if word in emission_d[pos_tag]:\n",
    "                        e_x2_s2 = emission_d[pos_tag][word]\n",
    "                        if e_x2_s2 > best_prob:\n",
    "                            best_prob = e_x2_s2\n",
    "                            best_pos = pos_tag\n",
    "            pred_lst.append(best_pos)\n",
    "            prev_pos = best_pos\n",
    "            \n",
    "    return pred_lst"
   ]
  },
  {
   "cell_type": "code",
   "execution_count": 40,
   "metadata": {},
   "outputs": [],
   "source": [
    "train_prediction = greedy_hmm(train_df)"
   ]
  },
  {
   "cell_type": "code",
   "execution_count": 44,
   "metadata": {},
   "outputs": [
    {
     "data": {
      "text/plain": [
       "0.9491895032863902"
      ]
     },
     "execution_count": 44,
     "metadata": {},
     "output_type": "execute_result"
    }
   ],
   "source": [
    "training_accuracy = sum(np.array(train_prediction) == train_df[\"pos_tag\"].values)/len(np.array(train_prediction))\n",
    "training_accuracy"
   ]
  },
  {
   "cell_type": "code",
   "execution_count": 29,
   "metadata": {},
   "outputs": [],
   "source": [
    "dev_prediction = greedy_hmm(dev_df)"
   ]
  },
  {
   "cell_type": "code",
   "execution_count": 30,
   "metadata": {},
   "outputs": [
    {
     "data": {
      "text/plain": [
       "0.9352877785198227"
      ]
     },
     "execution_count": 30,
     "metadata": {},
     "output_type": "execute_result"
    }
   ],
   "source": [
    "dev_accuracy = sum(np.array(dev_prediction) == dev_df[\"pos_tag\"].values)/len(np.array(dev_prediction))\n",
    "dev_accuracy"
   ]
  },
  {
   "cell_type": "code",
   "execution_count": 31,
   "metadata": {},
   "outputs": [],
   "source": [
    "test_prediction = greedy_hmm(test_df)"
   ]
  },
  {
   "cell_type": "code",
   "execution_count": 32,
   "metadata": {},
   "outputs": [],
   "source": [
    "with open(\"greedy.out\", \"w\") as g:\n",
    "    test_idx = test_df[\"index\"].values\n",
    "    test_word = test_df[\"word\"].values\n",
    "    for i, pred in enumerate(test_prediction):\n",
    "        g.write(str(test_idx[i]))\n",
    "        g.write(\"\\t\")\n",
    "        g.write(str(test_word[i]))\n",
    "        g.write(\"\\t\")\n",
    "        g.write(str(pred))\n",
    "        g.write(\"\\n\")"
   ]
  },
  {
   "cell_type": "code",
   "execution_count": null,
   "metadata": {},
   "outputs": [],
   "source": [
    "## 4. Viterbi Decoding With HMM:"
   ]
  },
  {
   "cell_type": "code",
   "execution_count": 33,
   "metadata": {},
   "outputs": [],
   "source": [
    "def viterbi_hmm(df):\n",
    "    \"\"\"Allows for a viterbi decoding implementation of HMM. Input - Dataframe that has words as column.\"\"\"\n",
    "    all_words = df[\"word\"].values\n",
    "    states = [k for k in emission_d.keys()]\n",
    "    V = []\n",
    "    for i, word in enumerate(all_words):\n",
    "        V.append({})\n",
    "        current_map = {}\n",
    "        if (word in unknown_word_list) or (word not in counter_sorted):\n",
    "            word = \"< unk >\"\n",
    "        if i == 0:\n",
    "            for pos_tag in states:\n",
    "                if word in emission_d[pos_tag]: \n",
    "                    e_x1_s1 = np.log(emission_d[pos_tag][word]) + np.log(start_prob[pos_tag])\n",
    "                    current_map[pos_tag] = {\"prob\": e_x1_s1, \"prev_state\": None}\n",
    "                else:\n",
    "                    current_map[pos_tag] = {\"prob\": -50, \"prev_state\": None}\n",
    "            V[i] = current_map\n",
    "        else:\n",
    "            for pos_tag in states:\n",
    "                if pos_tag in transition_d[states[0]]:\n",
    "                    best_prob = V[i-1][states[0]][\"prob\"] + np.log(transition_d[states[0]][pos_tag])\n",
    "                else:\n",
    "                    best_prob = -1000000\n",
    "                past_st = states[0]\n",
    "                for prev_tag in states[1:]:\n",
    "                    if pos_tag in transition_d[prev_tag]:\n",
    "                        t_s2_s1 = np.log(transition_d[prev_tag][pos_tag])\n",
    "                    else:\n",
    "                        t_s2_s1 = -100\n",
    "                    tr_cost = V[i-1][prev_tag][\"prob\"] + t_s2_s1 #log or -100 penalty\n",
    "                    if tr_cost > best_prob:\n",
    "                        best_prob = tr_cost\n",
    "                        past_st = prev_tag\n",
    "                \n",
    "                if word in emission_d[pos_tag]:\n",
    "                    e_x1_s1 = np.log(emission_d[pos_tag][word])\n",
    "                else:\n",
    "                    e_x1_s1 = -100\n",
    "                best_prob = best_prob + e_x1_s1  #log or -100 penalty\n",
    "                V[i][pos_tag] = {\"prob\": best_prob, \"prev_state\": past_st}\n",
    "                \n",
    "    pred_lst = []\n",
    "    final_state = \".\" #init a guess of . ending\n",
    "    best_prob = -np.inf #init a guess of best prob\n",
    "    \n",
    "    #Figure out what the best final state is:\n",
    "    for st, d_ in V[len(all_words)-1].items():\n",
    "        if d_[\"prob\"] > best_prob:\n",
    "            final_state = st\n",
    "            best_prob = d_[\"prob\"]\n",
    "            \n",
    "    #Follow path from end to beginning      \n",
    "    for i in range(len(all_words)-2, -1, -1):\n",
    "        pred_lst.append(V[i+1][final_state][\"prev_state\"])\n",
    "        final_state = V[i+1][final_state][\"prev_state\"]\n",
    "        \n",
    "    return np.flip(np.array(pred_lst),axis=0)"
   ]
  },
  {
   "cell_type": "code",
   "execution_count": 34,
   "metadata": {},
   "outputs": [],
   "source": [
    "train_prediction = viterbi_hmm(train_df.iloc[0:100000,:])\n"
   ]
  },
  {
   "cell_type": "code",
   "execution_count": 35,
   "metadata": {},
   "outputs": [
    {
     "data": {
      "text/plain": [
       "0.9612896128961289"
      ]
     },
     "execution_count": 35,
     "metadata": {},
     "output_type": "execute_result"
    }
   ],
   "source": [
    "train_accuracy = sum(1 for x,y in zip(train_prediction, train_df[\"pos_tag\"].values[0:100000]) if x == y)/len(train_prediction)\n",
    "train_accuracy"
   ]
  },
  {
   "cell_type": "code",
   "execution_count": 36,
   "metadata": {},
   "outputs": [],
   "source": [
    "dev_prediction = viterbi_hmm(dev_df)"
   ]
  },
  {
   "cell_type": "code",
   "execution_count": 37,
   "metadata": {},
   "outputs": [
    {
     "data": {
      "text/plain": [
       "0.9480294762725113"
      ]
     },
     "execution_count": 37,
     "metadata": {},
     "output_type": "execute_result"
    }
   ],
   "source": [
    "dev_accuracy = sum(1 for x,y in zip(dev_prediction, dev_df[\"pos_tag\"].values) if x == y)/len(dev_prediction)\n",
    "dev_accuracy"
   ]
  },
  {
   "cell_type": "code",
   "execution_count": 38,
   "metadata": {},
   "outputs": [],
   "source": [
    "viterbi_test_prediction = viterbi_hmm(test_df)"
   ]
  },
  {
   "cell_type": "code",
   "execution_count": 39,
   "metadata": {},
   "outputs": [],
   "source": [
    "with open(\"viterbi.out\", \"w\") as h:\n",
    "    test_idx = test_df[\"index\"].values\n",
    "    test_word = test_df[\"word\"].values\n",
    "    for i, pred in enumerate(viterbi_test_prediction):\n",
    "        h.write(str(test_idx[i]))\n",
    "        h.write(\"\\t\")\n",
    "        h.write(str(test_word[i]))\n",
    "        h.write(\"\\t\")\n",
    "        h.write(str(pred))\n",
    "        h.write(\"\\n\")"
   ]
  },
  {
   "cell_type": "code",
   "execution_count": null,
   "metadata": {},
   "outputs": [],
   "source": []
  }
 ],
 "metadata": {
  "kernelspec": {
   "display_name": "Python 3",
   "language": "python",
   "name": "python3"
  },
  "language_info": {
   "codemirror_mode": {
    "name": "ipython",
    "version": 3
   },
   "file_extension": ".py",
   "mimetype": "text/x-python",
   "name": "python",
   "nbconvert_exporter": "python",
   "pygments_lexer": "ipython3",
   "version": "3.7.6"
  }
 },
 "nbformat": 4,
 "nbformat_minor": 4
}
